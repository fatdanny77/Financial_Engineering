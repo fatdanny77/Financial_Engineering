{
 "cells": [
  {
   "cell_type": "markdown",
   "metadata": {},
   "source": [
    "# **完成本金平均攤還試算，參考：https://ttc.scu.org.tw/memdca1.htm**"
   ]
  },
  {
   "cell_type": "markdown",
   "metadata": {},
   "source": [
    "### 1. 首先，本金攤還試算的本金為本金除以期數，因此我將每期要還的本金列在list A。"
   ]
  },
  {
   "cell_type": "markdown",
   "metadata": {},
   "source": [
    "### 2. 而每期的利息為剩餘本金(所有本金扣除前一期還的本金)乘上利率，我將其列在list B。"
   ]
  },
  {
   "cell_type": "markdown",
   "metadata": {},
   "source": [
    "### 3. 最後，list C則為當期以及以前所有以還款本金加上已繳利息。"
   ]
  },
  {
   "cell_type": "markdown",
   "metadata": {},
   "source": [
    "### 4. 在這邊我以本金50萬元，年利率2%，3年期為例，結果如下表。"
   ]
  },
  {
   "cell_type": "code",
   "execution_count": 1,
   "metadata": {},
   "outputs": [
    {
     "name": "stdout",
     "output_type": "stream",
     "text": [
      "本金是多少呢？ (單位：元) 500000\n",
      "利率是多少呢？ (單位：%) 2\n",
      "要分幾年攤還呢？ (單位：年) 3\n",
      " 本金(元)  利息(元)  本金利息累計(元)\n",
      " 13889    833      14722\n",
      " 13889    810      29421\n",
      " 13889    787      44097\n",
      " 13889    764      58750\n",
      " 13889    741      73380\n",
      " 13889    718      87987\n",
      " 13889    694     102570\n",
      " 13889    671     117130\n",
      " 13889    648     131667\n",
      " 13889    625     146181\n",
      " 13889    602     160672\n",
      " 13889    579     175140\n",
      " 13889    556     189585\n",
      " 13889    532     204006\n",
      " 13889    509     218404\n",
      " 13889    486     232779\n",
      " 13889    463     247131\n",
      " 13889    440     261460\n",
      " 13889    417     275766\n",
      " 13889    394     290049\n",
      " 13889    370     304308\n",
      " 13889    347     318544\n",
      " 13889    324     332757\n",
      " 13889    301     346947\n",
      " 13889    278     361114\n",
      " 13889    255     375258\n",
      " 13889    231     389378\n",
      " 13889    208     403475\n",
      " 13889    185     417549\n",
      " 13889    162     431600\n",
      " 13889    139     445628\n",
      " 13889    116     459633\n",
      " 13889     93     473615\n",
      " 13889     69     487573\n",
      " 13889     46     501508\n",
      " 13885     23     515416\n"
     ]
    }
   ],
   "source": [
    "P_0 = int(input(\"本金是多少呢？ (單位：元) \"))\n",
    "R = float(input(\"利率是多少呢？ (單位：%) \"))\n",
    "T = int(input(\"要分幾年攤還呢？ (單位：年) \"))\n",
    "\n",
    "import pandas as pd\n",
    "import math\n",
    "\n",
    "def payment(P_0, R, T):\n",
    "    P = P_0\n",
    "    add = 0\n",
    "    A = []\n",
    "    B = []\n",
    "    C = []\n",
    "    a = P/(T*12)\n",
    "    for i in range(1,T*12+1) :\n",
    "        if i != 1 :\n",
    "            P -= a\n",
    "        if i != T*12 :\n",
    "            A.append(math.ceil(a))\n",
    "        elif i == T*12 :\n",
    "            A.append(P_0-sum(A))\n",
    "        B.append(round((P)*R/1200))\n",
    "        add += round(A[i-1]+B[i-1])\n",
    "        C.append(add)\n",
    "    result = {\"本金(元)\":A,\"利息(元)\":B,\"本金利息累計(元)\":C}\n",
    "    df = pd.DataFrame(data = result)\n",
    "    return(df.to_string(index=False))\n",
    "\n",
    "print(payment(P_0,R,T))\n",
    "           \n",
    "    "
   ]
  },
  {
   "cell_type": "markdown",
   "metadata": {},
   "source": []
  },
  {
   "cell_type": "markdown",
   "metadata": {},
   "source": []
  },
  {
   "cell_type": "code",
   "execution_count": null,
   "metadata": {},
   "outputs": [],
   "source": []
  }
 ],
 "metadata": {
  "kernelspec": {
   "display_name": "Python 3",
   "language": "python",
   "name": "python3"
  },
  "language_info": {
   "codemirror_mode": {
    "name": "ipython",
    "version": 3
   },
   "file_extension": ".py",
   "mimetype": "text/x-python",
   "name": "python",
   "nbconvert_exporter": "python",
   "pygments_lexer": "ipython3",
   "version": "3.7.2"
  }
 },
 "nbformat": 4,
 "nbformat_minor": 2
}
