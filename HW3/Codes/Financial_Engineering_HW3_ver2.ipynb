{
 "cells": [
  {
   "cell_type": "markdown",
   "metadata": {},
   "source": [
    "## Financial Engineering HW3"
   ]
  },
  {
   "cell_type": "markdown",
   "metadata": {},
   "source": [
    "### 以下為使用Binomial Option Pricing Model (BOPM) 計算出之買權賣權理論價格。"
   ]
  },
  {
   "cell_type": "markdown",
   "metadata": {},
   "source": [
    "#### 1. 輸入各項input後，建立和期數大小相符的空串列，以便放入我們各期的買權賣權價格。\n",
    "#### 2.算出最後一期的買賣權價格，再利用算出來的風險中立機率以及無風險利率 (R) 回推到之前各期。\n",
    "#### 3. 使用pandas DataFrame製作出表格。" ,   
    
    "#### 這邊不限定n一定要等於3，可自行輸入。"
   ]
  },
  {
   "cell_type": "code",
   "execution_count": 26,
   "metadata": {},
   "outputs": [
    {
     "name": "stdout",
     "output_type": "stream",
     "text": [
      "目前股價多少呢？ 160\n",
      "股價上漲幅度？ 1.5\n",
      "股價下跌幅度？ 0.5\n",
      "目前無風險利率？(請使用小數點) 0.18232\n",
      "履約價格？ 150\n",
      "期數為何？ 3\n",
      "R =  1.2\n",
      "C =  [[82.5], [141.5, 0], [235.0, 17.5, 0], [390.0, 30.0, 0, 0]]\n",
      "      0      1      2      3\n",
      "0  82.5  141.5  235.0  390.0\n",
      "1   NaN    0.0   17.5   30.0\n",
      "2   NaN    NaN    0.0    0.0\n",
      "3   NaN    NaN    NaN    0.0\n"
     ]
    }
   ],
   "source": [
    "#Call Value\n",
    "\n",
    "import math\n",
    "import numpy as np\n",
    "import pandas as pd\n",
    "\n",
    "s = float(input(\"目前股價多少呢？ \"))\n",
    "u = float(input(\"股價上漲幅度？ \"))\n",
    "d = float(input(\"股價下跌幅度？ \"))\n",
    "r = float(input(\"目前無風險利率？(請使用小數點) \"))\n",
    "k = float(input(\"履約價格？ \"))\n",
    "n = int(input(\"期數為何？ \"))\n",
    "R = round(math.exp(r),1)\n",
    "p = (R-d)/(u-d)\n",
    "print(\"R = \" ,R)\n",
    "\n",
    "C = []\n",
    "for i in range(1,n+2):\n",
    "    C.append([0 for i in range(1,i+1)])\n",
    "for i in range(n+1):\n",
    "    C[n][i] = s*(u**(n-i))*(d**i) - k \n",
    "    if C[n][i] <= 0:\n",
    "        C[n][i] = 0\n",
    "        \n",
    "t = n-1\n",
    "while t != 0:\n",
    "    for i in range(t):\n",
    "        C[t][i] =round((p*C[t+1][i] + (1-p)*C[t+1][i+1])/R , 1)\n",
    "    t -= 1\n",
    "        \n",
    "C[0][0] = round((p*C[1][0] + (1-p)*C[1][1])/R , 1)\n",
    "\n",
    "    \n",
    "print(\"Call Value = \",C)\n",
    "\n",
    "\n",
    "ans = pd.DataFrame(C)\n",
    "ans = ans.T\n",
    "print(ans) "
   ]
  },
  {
   "cell_type": "code",
   "execution_count": 27,
   "metadata": {},
   "outputs": [
    {
     "name": "stdout",
     "output_type": "stream",
     "text": [
      "目前股價多少呢？ 160\n",
      "股價上漲幅度？ 1.5\n",
      "股價下跌幅度？ 0.5\n",
      "目前無風險利率？(請使用小數點) 0.18232\n",
      "履約價格？ 180\n",
      "期數為何？ 3\n",
      "R =  1.2\n",
      "Put Value =  [[4.4], [7.5, 0], [0.0, 30.0, 0], [0, 0, 120.0, 160.0]]\n",
      "     0    1     2      3\n",
      "0  4.4  7.5   0.0    0.0\n",
      "1  NaN  0.0  30.0    0.0\n",
      "2  NaN  NaN   0.0  120.0\n",
      "3  NaN  NaN   NaN  160.0\n"
     ]
    }
   ],
   "source": [
    "#Put Value\n",
    "\n",
    "import math\n",
    "import numpy as np\n",
    "import pandas as pd\n",
    "\n",
    "s = float(input(\"目前股價多少呢？ \"))\n",
    "u = float(input(\"股價上漲幅度？ \"))\n",
    "d = float(input(\"股價下跌幅度？ \"))\n",
    "r = float(input(\"目前無風險利率？(請使用小數點) \"))\n",
    "k = float(input(\"履約價格？ \"))\n",
    "n = int(input(\"期數為何？ \"))\n",
    "R = round(math.exp(r),1)\n",
    "p = (R-d)/(u-d)\n",
    "print(\"R = \" ,R)\n",
    "\n",
    "P = []\n",
    "for i in range(1,n+2):\n",
    "    P.append([0 for i in range(1,i+1)])\n",
    "for i in range(n+1):\n",
    "    P[n][i] = k - s*(u**(n-i))*(d**i) \n",
    "    if P[n][i] <= 0:\n",
    "        P[n][i] = 0\n",
    "        \n",
    "t = n-1\n",
    "while t != 0:\n",
    "    for i in range(t):\n",
    "        P[t][i] =round((p*P[t+1][i] + (1-p)*P[t+1][i+1])/R , 1)\n",
    "    t -= 1\n",
    "        \n",
    "P[0][0] = round((p*P[1][0] + (1-p)*P[1][1])/R , 1)\n",
    "\n",
    "    \n",
    "print(\"Put Value = \",P)\n",
    "\n",
    "\n",
    "ans = pd.DataFrame(P)\n",
    "ans = ans.T\n",
    "print(ans) "
   ]
  }
 ],
 "metadata": {
  "kernelspec": {
   "display_name": "Python 3",
   "language": "python",
   "name": "python3"
  },
  "language_info": {
   "codemirror_mode": {
    "name": "ipython",
    "version": 3
   },
   "file_extension": ".py",
   "mimetype": "text/x-python",
   "name": "python",
   "nbconvert_exporter": "python",
   "pygments_lexer": "ipython3",
   "version": "3.7.2"
  }
 },
 "nbformat": 4,
 "nbformat_minor": 2
}
