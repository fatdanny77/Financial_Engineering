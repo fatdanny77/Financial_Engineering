{
 "cells": [
  {
   "cell_type": "code",
   "execution_count": null,
   "metadata": {},
   "outputs": [],
   "source": [
    "import QuantLib as ql\n",
    "import matplotlib.pyplot as plt\n",
    "import numpy as np\n",
    "\n",
    "sigma = 0.1\n",
    "a = 0.1\n",
    "timestep = 1000\n",
    "length = 10 # in years\n",
    "forward_rate = 0.05\n",
    "day_count = ql.Thirty360()\n",
    "todays_date = ql.Date(11, 5, 2020)\n",
    "\n",
    "ql.Settings.instance().evaluationDate = todays_date\n",
    "\n",
    "spot_curve = ql.FlatForward(todays_date, ql.QuoteHandle(ql.SimpleQuote(forward_rate)), day_count)\n",
    "spot_curve_handle = ql.YieldTermStructureHandle(spot_curve)\n",
    "\n",
    "hw_process = ql.HullWhiteProcess(spot_curve_handle, a, sigma)\n",
    "rng = ql.GaussianRandomSequenceGenerator(ql.UniformRandomSequenceGenerator(timestep, ql.UniformRandomGenerator()))\n",
    "seq = ql.GaussianPathGenerator(hw_process, length, timestep, rng, False)\n",
    "\n",
    "def generate_paths(num_paths, timestep):\n",
    "    arr = np.zeros((num_paths, timestep+1))\n",
    "    for i in range(num_paths):\n",
    "        sample_path = seq.next()\n",
    "        path = sample_path.value()\n",
    "        time = [path.time(j) for j in range(len(path))]\n",
    "        value = [path[j] for j in range(len(path))]\n",
    "        arr[i, :] = np.array(value)\n",
    "    return np.array(time), arr\n",
    "\n",
    "num_paths = 100\n",
    "\n",
    "\n",
    "S0 = 100\n",
    "np.random.seed(1)\n",
    "time, paths = generate_paths(num_paths, timestep)\n",
    "print(len(paths[0]))\n",
    "for i in range(num_paths):\n",
    "    W = np.random.standard_normal(size = timestep+1)\n",
    "    W = np.cumsum(W)*np.sqrt(dt)\n",
    "    X = (paths[i, :]-0.5*sigma**2)*time + sigma*W\n",
    "    S = S0*np.exp(X)\n",
    "    plt.plot(time, S, lw=0.8, alpha=0.6)\n",
    "plt.title(\"Hull-White Short Rate Simulation\")\n",
    "plt.show()\n",
    "#print(paths)\n"
   ]
  }
 ],
 "metadata": {
  "kernelspec": {
   "display_name": "Python 3",
   "language": "python",
   "name": "python3"
  },
  "language_info": {
   "codemirror_mode": {
    "name": "ipython",
    "version": 3
   },
   "file_extension": ".py",
   "mimetype": "text/x-python",
   "name": "python",
   "nbconvert_exporter": "python",
   "pygments_lexer": "ipython3",
   "version": "3.7.2"
  }
 },
 "nbformat": 4,
 "nbformat_minor": 2
}
