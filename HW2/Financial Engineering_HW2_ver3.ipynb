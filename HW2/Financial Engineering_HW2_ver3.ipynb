{
 "cells": [
  {
   "cell_type": "markdown",
   "metadata": {},
   "source": [
    "## 以下分別為此次作業的四個小題：YTM、Spot Rate、Forward Rate 以及 Forward Rate Tabulate。以下統一債券面額均為1000。"
   ]
  },
  {
   "cell_type": "markdown",
   "metadata": {},
   "source": [
    "### 1. YTM。此處參考[作業連結](https://www.calkoo.com/en/ytm-calculator)\n",
    "\n",
    "> **假設Current bond price為950，債券面額為1000，Coupon rate為 1%，5年到期，一年計息1次。**"
   ]
  },
  {
   "cell_type": "code",
   "execution_count": 20,
   "metadata": {},
   "outputs": [
    {
     "name": "stdout",
     "output_type": "stream",
     "text": [
      "Current Bond Price? 950\n",
      "Bond Par Value? 1000\n",
      "Bond Coupon Rate(%)? 1\n",
      "Years to Maturity? 5\n",
      "一年內計息幾次? 1\n",
      "[0.0206272387231938]\n"
     ]
    }
   ],
   "source": [
    "# YTM\n",
    "from sympy.solvers import solve\n",
    "from sympy import Symbol\n",
    "import math\n",
    "\n",
    "P = int(input(\"Current Bond Price? \"))\n",
    "F = int(input(\"Bond Par Value? \"))\n",
    "C = float(input(\"Bond Coupon Rate(%)? \"))\n",
    "T = int(input(\"Years to Maturity? \"))\n",
    "M = int(input(\"一年內計息幾次? \"))\n",
    "sum = 0\n",
    "x = Symbol('x', positive = True)\n",
    "for i in range(1,(T*M)+1):\n",
    "    sum += (F*(C/100))/((1+(x/M))**(i))\n",
    "ans = solve(sum + ((F*C)/((1+(x/M))**(T*M)) - P ),x)\n",
    "\n",
    "print(ans)\n"
   ]
  },
  {
   "cell_type": "markdown",
   "metadata": {},
   "source": [
    "### 2. Spot Rate。此處參考[作業連結](https://www.trignosource.com/finance/spot%20rate.html#Calculator)。此處等於直接算一零息債券之價格。\n",
    "> **假設債券現價為950，期數為5年。**"
   ]
  },
  {
   "cell_type": "code",
   "execution_count": 21,
   "metadata": {},
   "outputs": [
    {
     "name": "stdout",
     "output_type": "stream",
     "text": [
      "現價格是多少呢？ (單位：元，面額1000) 950\n",
      "期數是多少呢？ (單位：年) 5\n",
      "0.01031145931793609\n"
     ]
    }
   ],
   "source": [
    "# Spot rate\n",
    "import math\n",
    "P = float(input(\"現價格是多少呢？ (單位：元，面額1000) \"))\n",
    "T = int(input(\"期數是多少呢？ (單位：年) \"))\n",
    "R = P**(-1/T)*1000**(1/T) - 1\n",
    "print(R)"
   ]
  },
  {
   "cell_type": "markdown",
   "metadata": {},
   "source": [
    "### 若想一次輸入多個債券資訊，求出多個 spot rate，則可以用以下程式碼。輸出值已存成 list。\n",
    "> **假設有三張債券，P分別為 980、800、750，T分別為 3、4、5。**"
   ]
  },
  {
   "cell_type": "code",
   "execution_count": 5,
   "metadata": {},
   "outputs": [
    {
     "name": "stdout",
     "output_type": "stream",
     "text": [
      "現價格是多少呢？ (單位：元，面額1000。數字中間請空一格) 980 800 750 \n",
      "期數是多少呢？ (單位：年。數字中間請空一格) 3 4 5\n",
      "[0.006756961723555888, 0.05737126344056431, 0.059223841048812176]\n"
     ]
    }
   ],
   "source": [
    "# Many spot rates in one time\n",
    "P = [float(i) for i in (input(\"現價格是多少呢？ (單位：元，面額1000。數字中間請空一格) \").strip().split(\" \"))]\n",
    "T = [int(i) for i in (input(\"期數是多少呢？ (單位：年。數字中間請空一格) \")).strip().split(\" \")]\n",
    "R = []\n",
    "for i in range(len(P)) :\n",
    "    R.append(P[i]**(-1/T[i])*1000**(1/T[i]) - 1)\n",
    "\n",
    "print(R)"
   ]
  },
  {
   "cell_type": "markdown",
   "metadata": {},
   "source": [
    "###  3. Forward Rate。此處參考[作業連結](https://www.trignosource.com/finance/Forward%20rate.html#Calculator)。由於網站的輸入值為第一張零息債的起始日期以及我們想算的 forward rate 的時間長度，因此此處亦做如此設定。\n",
    "> **假設第一張零息債券現價目前在第2期、現價900，總共計算3期，第五期現價800。**"
   ]
  },
  {
   "cell_type": "code",
   "execution_count": 24,
   "metadata": {},
   "outputs": [
    {
     "name": "stdout",
     "output_type": "stream",
     "text": [
      "目前期數走了多少呢？ (亦即總期數口掉剩餘期數)(單位：年) 2\n",
      "從起始期總計要算幾年呢？ (單位：年) 3\n",
      "起始期現價格是多少呢？ (單位：元，面額1000) 900\n",
      "結束期現價格是多少呢？ (單位：元，面額1000) 800\n",
      "0.04004191152595182\n"
     ]
    }
   ],
   "source": [
    "# Forward rate\n",
    "import math\n",
    "T_1 = int(input(\"目前期數走了多少呢？ (亦即總期數口掉剩餘期數)(單位：年) \"))\n",
    "D = int(input(\"從起始期總計要算幾年呢？ (單位：年) \"))\n",
    "P_1 = float(input(\"起始期現價格是多少呢？ (單位：元，面額1000) \"))\n",
    "P_2 = float(input(\"結束期現價格是多少呢？ (單位：元，面額1000) \"))\n",
    "\n",
    "\n",
    "T_2 = T_1 + D\n",
    "R_1 = P_1**(-1/T_1)*1000**(1/T_1) - 1\n",
    "R_2 = P_2**(-1/T_2)*1000**(1/T_2) - 1\n",
    "ans = (((1+R_2)**(T_2/D))/(1+R_1)**(T_1/D)) - 1\n",
    "print(ans)"
   ]
  },
  {
   "cell_type": "markdown",
   "metadata": {},
   "source": [
    "### 同理，若要同時算很多筆 forward rate，可以使用以下程式碼，出來的值會存成 list。\n",
    "> 假設要算兩個 forward rate，f(2,5)及f(3,7)，現價分別為(980，850)、(900，800)。"
   ]
  },
  {
   "cell_type": "code",
   "execution_count": 10,
   "metadata": {},
   "outputs": [
    {
     "name": "stdout",
     "output_type": "stream",
     "text": [
      "目前期數走了多少呢？ (亦即總期數口掉剩餘期數)(單位：年。數字中間請空一格) 2 3 \n",
      "從起始期總計要算幾年呢？ (單位：年。數字中間請空一格) 3 4 \n",
      "起始期現價格是多少呢？ (單位：元，面額1000。數字中間請空一格) 980 900\n",
      "結束期現價格是多少呢？ (單位：元，面額1000。數字中間請空一格) 850 800\n",
      "[0.048581963784696036, 0.02988357195355862]\n"
     ]
    }
   ],
   "source": [
    "# Many forward rates in one time\n",
    "import math\n",
    "T_1 = [int(i) for i in input(\"目前期數走了多少呢？ (亦即總期數口掉剩餘期數)(單位：年。數字中間請空一格) \").strip().split(\" \")]\n",
    "D = [int(i) for i in input(\"從起始期總計要算幾年呢？ (單位：年。數字中間請空一格) \").strip().split(\" \")]\n",
    "P_1 = [float(i) for i in input(\"起始期現價格是多少呢？ (單位：元，面額1000。數字中間請空一格) \").strip().split(\" \")]\n",
    "P_2 = [float(i) for i in input(\"結束期現價格是多少呢？ (單位：元，面額1000。數字中間請空一格) \").strip().split(\" \")]\n",
    "ans = []\n",
    "T_2 = []\n",
    "R_1 = []\n",
    "R_2 = []\n",
    "for i in range(len(T_1)):\n",
    "    T_2.append(T_1[i] + D[i])\n",
    "    R_1.append(P_1[i]**(-1/T_1[i])*1000**(1/T_1[i]) - 1)\n",
    "    R_2.append(P_2[i]**(-1/T_2[i])*1000**(1/T_2[i]) - 1)\n",
    "    ans.append((((1+R_2[i])**(T_2[i]/D[i]))/(1+R_1[i])**(T_1[i]/D[i])) - 1)\n",
    "print(ans)"
   ]
  },
  {
   "cell_type": "markdown",
   "metadata": {},
   "source": [
    "### 4. Forward rate tabulate。由於沒有給定債券的資訊，第四題這邊將直接給定 T = 5 的各 spot rate (因為第一列為 spot rate) 及 forward rate，僅示範如何製成表格。這邊只需要藉由我第三題(Many spot rates in one time)及第四題( Many forward rates in one time) 所寫的程式碼，計算出各個 spot rate 及 forward rate 即可。以下數字均為假設。"
   ]
  },
  {
   "cell_type": "code",
   "execution_count": 23,
   "metadata": {},
   "outputs": [
    {
     "name": "stdout",
     "output_type": "stream",
     "text": [
      "     0      1      2      3      4      5\n",
      "0  0.0  0.101  0.102  0.103  0.104  0.105\n",
      "1  0.0  0.111  0.112  0.113  0.114  0.115\n",
      "2  0.0  0.000  0.122  0.123  0.124  0.125\n",
      "3  0.0  0.000  0.000  0.133  0.134  0.135\n",
      "4  0.0  0.000  0.000  0.000  0.144  0.145\n",
      "5  0.0  0.000  0.000  0.000  0.000  0.155\n"
     ]
    }
   ],
   "source": [
    "# Forward Rate Tabulate\n",
    "import pandas as pd\n",
    "import numpy as np\n",
    "\n",
    "\n",
    "\n",
    "Spot_Rate = [0, 0.101, 0.102, 0.103, 0.104, 0.105]\n",
    "Forward_R = [0, 0.111, 0.112, 0.113, 0.114, 0.115, 0, 0, 0.122, 0.123, 0.124, 0.125, 0, 0, 0, 0.133, 0.134, 0.135, 0, 0, 0, 0, 0.144, 0.145, 0, 0, 0, 0, 0, 0.155]\n",
    "T = len(Spot_Rate)\n",
    "Rate = Spot_Rate + Forward_R\n",
    "ans = np.array(Rate)\n",
    "shape = (T , T)\n",
    "ans = ans.reshape(shape)\n",
    "ans = pd.DataFrame(ans, dtype = np.float)\n",
    "\n",
    "#print(ans.shape())\n",
    "print(ans)"
   ]
  },
  {
   "cell_type": "code",
   "execution_count": null,
   "metadata": {},
   "outputs": [],
   "source": []
  }
 ],
 "metadata": {
  "kernelspec": {
   "display_name": "Python 3",
   "language": "python",
   "name": "python3"
  },
  "language_info": {
   "codemirror_mode": {
    "name": "ipython",
    "version": 3
   },
   "file_extension": ".py",
   "mimetype": "text/x-python",
   "name": "python",
   "nbconvert_exporter": "python",
   "pygments_lexer": "ipython3",
   "version": "3.7.2"
  }
 },
 "nbformat": 4,
 "nbformat_minor": 2
}
