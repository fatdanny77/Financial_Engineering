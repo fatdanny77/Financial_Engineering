{
 "cells": [
  {
   "cell_type": "code",
   "execution_count": 40,
   "metadata": {},
   "outputs": [
    {
     "name": "stdout",
     "output_type": "stream",
     "text": [
      "股票現價為？ 75\n",
      "到期日前還有離現在幾月會計息？(如：在一個月後和四個月後都會計息，則填1 4，中間留一空格。) 1 4 \n",
      "股利為？1\n",
      "股價波動率為？ 0.35\n",
      "無風險利率為？(單位：%) 6\n",
      "履約價為？ 65\n",
      "剩餘到期日？(單位：年)0.5\n",
      "Call value =  12.806183806810672\n",
      "Put value =  2.8603546399631448\n"
     ]
    }
   ],
   "source": [
    "import math\n",
    "from scipy.stats import norm\n",
    "\n",
    "\n",
    "S_D = float(input(\"股票現價為？ \"))\n",
    "D_T = input(\"到期日前還有離現在幾月會計息？(如：在一個月後和四個月後都會計息，則填1 4，中間留一空格。) \")\n",
    "d = float(input(\"股利為？\"))\n",
    "sigma = float(input(\"股價波動率為？ \"))\n",
    "r = float(input(\"無風險利率為？(單位：%) \"))\n",
    "k = float(input(\"履約價為？ \"))\n",
    "T = float(input(\"剩餘到期日？(單位：年)\"))\n",
    "\n",
    "#算 Divident\n",
    "D_T = [float(i) for i in D_T.strip().split(\" \")]\n",
    "D = 0\n",
    "for i in range(len(D_T)):\n",
    "    D += d*math.exp((-r/100)*(D_T[i]/12))\n",
    "\n",
    "#不含股利之股價現值\n",
    "S = S_D - D    \n",
    "\n",
    "d1 = (math.log(S/k)+((r/100)+(0.5)*(sigma**2))*T)/(sigma*math.sqrt(T))\n",
    "d2 = d1 - sigma*math.sqrt(T)\n",
    "\n",
    "#call, put value\n",
    "C = S*float(norm.cdf(d1)) - k*math.exp((-r/100)*T)*float(norm.cdf(d2))\n",
    "P = k*math.exp((-r/100)*T)*float(norm.cdf(-d2)) - S*float(norm.cdf(-d1))\n",
    "\n",
    "print(\"Call value = \" , C)\n",
    "print(\"Put value = \" , P)"
   ]
  },
  {
   "cell_type": "code",
   "execution_count": null,
   "metadata": {},
   "outputs": [],
   "source": []
  }
 ],
 "metadata": {
  "kernelspec": {
   "display_name": "Python 3",
   "language": "python",
   "name": "python3"
  },
  "language_info": {
   "codemirror_mode": {
    "name": "ipython",
    "version": 3
   },
   "file_extension": ".py",
   "mimetype": "text/x-python",
   "name": "python",
   "nbconvert_exporter": "python",
   "pygments_lexer": "ipython3",
   "version": "3.7.2"
  }
 },
 "nbformat": 4,
 "nbformat_minor": 2
}
