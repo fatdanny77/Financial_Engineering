{
 "cells": [
  {
   "cell_type": "code",
   "execution_count": 3,
   "metadata": {},
   "outputs": [
    {
     "name": "stdout",
     "output_type": "stream",
     "text": [
      "1000.0\n"
     ]
    }
   ],
   "source": [
    "#YTM\n",
    "from sympy.solvers import solve\n",
    "from sympy import Symbol\n",
    "import math\n",
    "\n",
    "sum = 0\n",
    "for i in range(1,11):\n",
    "    sum += 10/((1.01)**i)\n",
    "print(sum + (1000/1.01**10))"
   ]
  },
  {
   "cell_type": "code",
   "execution_count": 26,
   "metadata": {},
   "outputs": [
    {
     "name": "stdout",
     "output_type": "stream",
     "text": [
      "[1/100]\n"
     ]
    }
   ],
   "source": [
    "from sympy.solvers.solveset import solveset\n",
    "sum = 0\n",
    "x = Symbol('x', positive = True)\n",
    "for i in range(1,11):\n",
    "    sum += 10/((1+x)**i)\n",
    "a = solve(sum + (1000/((1+x)**10) - 1000 ),x)\n",
    "\n",
    "print(a)\n"
   ]
  },
  {
   "cell_type": "code",
   "execution_count": 10,
   "metadata": {},
   "outputs": [
    {
     "name": "stdout",
     "output_type": "stream",
     "text": [
      "價格是多少呢？ (單位：元，面額1000) 500\n",
      "期數是多少呢？ (單位：年) 5\n",
      "0.1486983549970351\n"
     ]
    }
   ],
   "source": [
    "#spot rate\n",
    "import math\n",
    "P = float(input(\"現價格是多少呢？ (單位：元，面額1000) \"))\n",
    "T = int(input(\"期數是多少呢？ (單位：年) \"))\n",
    "R = P**(-1/T)*1000**(1/T) - 1\n",
    "print(R)"
   ]
  },
  {
   "cell_type": "code",
   "execution_count": 12,
   "metadata": {},
   "outputs": [
    {
     "name": "stdout",
     "output_type": "stream",
     "text": [
      "起始期現價格是多少呢？ (單位：元，面額1000) 200\n",
      "結束期現價格是多少呢？ (單位：元，面額1000) 100\n",
      "起始期是多少呢？ (單位：年) 3\n",
      "總計幾年呢？ (單位：年) 4\n",
      "0.18920711500272125\n"
     ]
    }
   ],
   "source": [
    "#Forward rate\n",
    "import math\n",
    "P_1 = float(input(\"起始期現價格是多少呢？ (單位：元，面額1000) \"))\n",
    "P_2 = float(input(\"結束期現價格是多少呢？ (單位：元，面額1000) \"))\n",
    "T_1 = int(input(\"起始期是多少呢？ (單位：年) \"))\n",
    "D = int(input(\"從起始期總計幾年呢？ (單位：年) \"))\n",
    "\n",
    "T_2 = T_1 + D\n",
    "R_1 = P_1**(-1/T_1)*1000**(1/T_1) - 1\n",
    "R_2 = P_2**(-1/T_2)*1000**(1/T_2) - 1\n",
    "ans = (((1+R_2)**(T_2/D))/(1+R_1)**(T_1/D)) - 1\n",
    "print(ans)"
   ]
  },
  {
   "cell_type": "code",
   "execution_count": null,
   "metadata": {},
   "outputs": [],
   "source": [
    "#Forward rate tabulate\n",
    "#在這裡統一面額為1000，而票面利率可自行調整\n",
    "import math\n",
    "T = int(input(\"債券到期期間為何？ (單位：年) \"))\n",
    "C = int(input(\"票面利率為何？ (單位：%) \"))\n",
    "spot_rate = {}\n",
    "for i in range(1,T):\n",
    "    r = (1000*C)**(-1/i)*1000**(1/i) - 1\n",
    "    spot_rate[i] = r\n",
    "r_T = (1000*C)**(-1/T)*1000**(1/T) - 1\n",
    "spot_rate[T] = r_T\n",
    "\n",
    "\n",
    "for T_1 in range(1,T+1):\n",
    "    for T_2 in range(1,T+1):\n",
    "        R_1 = spot_rate[T_1] \n",
    "        R_2 = spot_rate[T_2]\n",
    "        ans = (((1+R_2)**(T_2/D))/(1+R_1)**(T_1/D)) - 1\n",
    "    \n",
    "\n",
    "P_1 = float(input(\"起始期現價格是多少呢？ (單位：元，面額1000) \"))\n",
    "P_2 = float(input(\"結束期現價格是多少呢？ (單位：元，面額1000) \"))\n",
    "T_1 = int(input(\"起始期是多少呢？ (單位：年) \"))\n",
    "D = int(input(\"總計幾年呢？ (單位：年) \"))\n",
    "\n",
    "T_2 = T_1 + D\n",
    "R_1 = P_1**(-1/T_1)*1000**(1/T_1) - 1\n",
    "R_2 = P_2**(-1/T_2)*1000**(1/T_2) - 1\n",
    "ans = (((1+R_2)**(T_2/D))/(1+R_1)**(T_1/D)) - 1\n",
    "print(ans)"
   ]
  }
 ],
 "metadata": {
  "kernelspec": {
   "display_name": "Python 3",
   "language": "python",
   "name": "python3"
  },
  "language_info": {
   "codemirror_mode": {
    "name": "ipython",
    "version": 3
   },
   "file_extension": ".py",
   "mimetype": "text/x-python",
   "name": "python",
   "nbconvert_exporter": "python",
   "pygments_lexer": "ipython3",
   "version": "3.7.2"
  }
 },
 "nbformat": 4,
 "nbformat_minor": 2
}
