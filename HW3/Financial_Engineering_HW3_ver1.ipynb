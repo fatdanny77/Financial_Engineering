{
 "cells": [
  {
   "cell_type": "code",
   "execution_count": 28,
   "metadata": {},
   "outputs": [
    {
     "name": "stdout",
     "output_type": "stream",
     "text": [
      "目前股價多少呢？ 160\n",
      "股價上漲幅度？ 1.5\n",
      "股價下跌幅度？ 0.5\n",
      "目前無風險利率？ 0\n",
      "履約價格？ 0\n",
      "期數為何？ 3\n",
      "[[0], [0, 0], [0, 0, 0], [540.0, 180.0, 60.0, 20.0]]\n"
     ]
    }
   ],
   "source": [
    "import math\n",
    "\n",
    "s = float(input(\"目前股價多少呢？ \"))\n",
    "u = float(input(\"股價上漲幅度？ \"))\n",
    "d = float(input(\"股價下跌幅度？ \"))\n",
    "r = float(input(\"目前無風險利率？ \"))\n",
    "k = float(input(\"履約價格？ \"))\n",
    "n = int(input(\"期數為何？ \"))\n",
    "R = math.exp(r)\n",
    "p = (R-d)/(u-d)\n",
    "\n",
    "S = []\n",
    "for i in range(1,n+2):\n",
    "    S.append([0 for i in range(1,i+1)])\n",
    "for i in range(n+1):\n",
    "    S[n][i] = s*(u**(n-i))*(d**i)\n",
    "    \n",
    "\n",
    "    \n",
    "print(S)\n",
    "        \n",
    "    "
   ]
  },
  {
   "cell_type": "code",
   "execution_count": 4,
   "metadata": {},
   "outputs": [
    {
     "name": "stdout",
     "output_type": "stream",
     "text": [
      "[[], [], []]\n"
     ]
    }
   ],
   "source": [
    "s = [[]]*3\n",
    "\n",
    "print(s)"
   ]
  },
  {
   "cell_type": "code",
   "execution_count": 20,
   "metadata": {},
   "outputs": [
    {
     "name": "stdout",
     "output_type": "stream",
     "text": [
      "目前股價多少呢？ 1\n",
      "股價上漲幅度？ 1\n",
      "股價下跌幅度？ 1\n",
      "期數為何？ 3\n",
      "[[0], [0, 0], [0, 0, 0], [0, 0, 0, 0]]\n"
     ]
    }
   ],
   "source": [
    "s = float(input(\"目前股價多少呢？ \"))\n",
    "u = float(input(\"股價上漲幅度？ \"))\n",
    "d = float(input(\"股價下跌幅度？ \"))\n",
    "n = int(input(\"期數為何？ \"))\n",
    "S = []\n",
    "for i in range(1,n+2):\n",
    "    S.append([0 for i in range(1,i+1)])\n",
    "#for i in range(n+1):\n",
    "#    S[n-1][i-1] = s*(u**(n-i))*d**i\n",
    "    \n",
    "print(S)"
   ]
  },
  {
   "cell_type": "code",
   "execution_count": 8,
   "metadata": {},
   "outputs": [
    {
     "name": "stdout",
     "output_type": "stream",
     "text": [
      "[[0, 1, 2], [0, 1, 2], [0, 1, 2], [0, 1, 2]]\n"
     ]
    }
   ],
   "source": [
    "s = [[0 for i in range(3)]for y in range(4)]\n",
    "print(s)"
   ]
  },
  {
   "cell_type": "code",
   "execution_count": 9,
   "metadata": {},
   "outputs": [
    {
     "name": "stdout",
     "output_type": "stream",
     "text": [
      "[[], [0], [0, 0]]\n"
     ]
    }
   ],
   "source": [
    "s = []\n",
    "for i in range(3):\n",
    "    s.append([0 for i in range(i)])\n",
    "print(s)"
   ]
  },
  {
   "cell_type": "code",
   "execution_count": null,
   "metadata": {},
   "outputs": [],
   "source": []
  }
 ],
 "metadata": {
  "kernelspec": {
   "display_name": "Python 3",
   "language": "python",
   "name": "python3"
  },
  "language_info": {
   "codemirror_mode": {
    "name": "ipython",
    "version": 3
   },
   "file_extension": ".py",
   "mimetype": "text/x-python",
   "name": "python",
   "nbconvert_exporter": "python",
   "pygments_lexer": "ipython3",
   "version": "3.7.2"
  }
 },
 "nbformat": 4,
 "nbformat_minor": 2
}
